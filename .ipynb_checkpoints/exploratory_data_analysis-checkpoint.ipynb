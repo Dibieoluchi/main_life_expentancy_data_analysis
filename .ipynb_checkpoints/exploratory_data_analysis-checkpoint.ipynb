{
 "cells": [
  {
   "cell_type": "markdown",
   "id": "7e56bed9",
   "metadata": {},
   "source": [
    "# Exploratory Data Analyis"
   ]
  },
  {
   "cell_type": "markdown",
   "id": "e3374488",
   "metadata": {},
   "source": [
    "The data-set aims to answer the following key questions:\n",
    "\n",
    "1. Does various predicting factors which has been chosen initially really affect the Life expectancy? What are the predicting variables actually affecting the life expectancy?\n",
    "2. Should a country having a lower life expectancy value(<65) increase its healthcare expenditure in order to improve its average lifespan?\n",
    "3. How does Infant and Adult mortality rates affect life expectancy?\n",
    "4. Does Life Expectancy has positive or negative correlation with eating habits, lifestyle, exercise, smoking, drinking alcohol etc.\n",
    "5. What is the impact of schooling on the lifespan of humans?\n",
    "6. Does Life Expectancy have positive or negative relationship with drinking alcohol?\n",
    "7. Do densely populated countries tend to have lower life expectancy?\n",
    "8. What is the impact of Immunization coverage on life Expectancy?"
   ]
  },
  {
   "cell_type": "code",
   "execution_count": 1,
   "id": "128b6bfa",
   "metadata": {},
   "outputs": [],
   "source": [
    "import pandas as pd\n",
    "import numpy as np \n",
    "import seaborn as sns \n",
    "import matplotlib.pyplot as plt"
   ]
  },
  {
   "cell_type": "code",
   "execution_count": null,
   "id": "ef1287ed",
   "metadata": {},
   "outputs": [],
   "source": []
  },
  {
   "cell_type": "code",
   "execution_count": null,
   "id": "854a7e82",
   "metadata": {},
   "outputs": [],
   "source": []
  }
 ],
 "metadata": {
  "kernelspec": {
   "display_name": "Python 3 (ipykernel)",
   "language": "python",
   "name": "python3"
  },
  "language_info": {
   "codemirror_mode": {
    "name": "ipython",
    "version": 3
   },
   "file_extension": ".py",
   "mimetype": "text/x-python",
   "name": "python",
   "nbconvert_exporter": "python",
   "pygments_lexer": "ipython3",
   "version": "3.7.4"
  }
 },
 "nbformat": 4,
 "nbformat_minor": 5
}
